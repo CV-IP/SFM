{
 "cells": [
  {
   "cell_type": "code",
   "execution_count": 2,
   "metadata": {},
   "outputs": [],
   "source": [
    "import numpy as np\n",
    "import pickle\n",
    "import os"
   ]
  },
  {
   "cell_type": "code",
   "execution_count": 5,
   "metadata": {},
   "outputs": [
    {
     "name": "stdout",
     "output_type": "stream",
     "text": [
      "-- N2N BSD68 --\n",
      "Regular:\n",
      "32.67 & 28.84 & 26.61 & 25.02 & 23.76 & 22.69 & 21.74 & 20.88 & 20.11 & 19.41\n",
      "SFM:\n",
      "32.55 & 28.94 & 26.84 & 25.31 & 24.11 & 23.05 & 22.14 & 21.32 & 20.61 & 19.95\n",
      "LFM:\n",
      "27.32 & 26.15 & 25.16 & 24.21 & 23.34 & 22.57 & 21.83 & 21.10 & 20.40 & 19.73\n"
     ]
    }
   ],
   "source": [
    "def print_with_ltx(PSNR):\n",
    "    full_string = ''\n",
    "    for idx, val in enumerate(PSNR):\n",
    "        full_string += '%.2f' %round(val,2)\n",
    "        if idx < len(PSNR)-1:\n",
    "            full_string += ' & '\n",
    "    print(full_string)\n",
    "\n",
    "\n",
    "def get_sigma_PSNR(exp_date, exp_name, epoch, Set12=False):\n",
    "\n",
    "    root = 'experiments/n2n/' + exp_date + '/'\n",
    "    results_dir = os.path.join(root, exp_name, 'checkpoints')\n",
    "    if Set12:\n",
    "        results_dir += '/_Set12data%d.pkl' %epoch\n",
    "    else:\n",
    "        results_dir += '/_data%d.pkl' %epoch\n",
    "\n",
    "    with open(results_dir, 'rb') as pickle_file:\n",
    "        data = pickle.load(pickle_file)\n",
    "\n",
    "    return data\n",
    "\n",
    "\n",
    "epoch = 50\n",
    "Set12 = False\n",
    "print('-- N2N BSD68 --')\n",
    "\n",
    "exp_date = 'Nov_04'\n",
    "DCT_DOR = 0\n",
    "exp_name = 'unet_noise_train[1, 2, 4, 8, 16]_test[1]_center_crop_epochs51_bs64_lr0.0001DCTDOR'\n",
    "exp_name += str(DCT_DOR)\n",
    "PSNRs = get_sigma_PSNR(exp_date, exp_name, epoch, Set12).mean(0)\n",
    "print('Regular:')\n",
    "print_with_ltx(PSNRs)\n",
    "DCT_DOR = 0.5\n",
    "exp_name = 'unet_noise_train[1, 2, 4, 8, 16]_test[1]_center_crop_epochs51_bs64_lr0.0001DCTDOR'\n",
    "exp_name += str(DCT_DOR)\n",
    "PSNRs = get_sigma_PSNR(exp_date, exp_name, epoch, Set12).mean(0)\n",
    "print('SFM:')\n",
    "print_with_ltx(PSNRs)\n",
    "exp_date = 'Nov_05' #this is with LFM, SFM rad perc 0.15\n",
    "DCT_DOR = 0.5\n",
    "exp_name = 'unet_noise_train[1, 2, 4, 8, 16]_test[1]_center_crop_epochs51_bs64_lr0.0001DCTDOR'\n",
    "exp_name += str(DCT_DOR)\n",
    "PSNRs = get_sigma_PSNR(exp_date, exp_name, epoch, Set12).mean(0)\n",
    "print('LFM:')\n",
    "print_with_ltx(PSNRs)"
   ]
  }
 ],
 "metadata": {
  "kernelspec": {
   "display_name": "Python 3",
   "language": "python",
   "name": "python3"
  },
  "language_info": {
   "codemirror_mode": {
    "name": "ipython",
    "version": 3
   },
   "file_extension": ".py",
   "mimetype": "text/x-python",
   "name": "python",
   "nbconvert_exporter": "python",
   "pygments_lexer": "ipython3",
   "version": "3.7.4"
  }
 },
 "nbformat": 4,
 "nbformat_minor": 4
}
