{
 "cells": [
  {
   "cell_type": "code",
   "execution_count": 2,
   "metadata": {},
   "outputs": [],
   "source": [
    "import numpy as np\n",
    "import json\n",
    "import os"
   ]
  },
  {
   "cell_type": "code",
   "execution_count": 3,
   "metadata": {},
   "outputs": [],
   "source": [
    "def print_with_ltx(PSNR):\n",
    "    full_string = ''\n",
    "    for idx, val in enumerate(PSNR):\n",
    "        full_string += '%.2f' %round(val,2)\n",
    "        if idx < len(PSNR)-1:\n",
    "            full_string += ' & '\n",
    "    print(full_string)\n",
    "\n",
    "\n",
    "def get_sigma_PSNR(exp_date, exp_name, method='n2n'):\n",
    "\n",
    "    root = os.path.join('experiments', method, exp_date)\n",
    "    results_dir = os.path.join(root, exp_name, 'benchmark_gpu', 'results_gpu.txt')\n",
    "    with open(results_dir) as json_file:\n",
    "        data = json.load(json_file)\n",
    "        PSNR = np.zeros((5,5))\n",
    "        for idx, level in enumerate([16,8,4,2,1]):\n",
    "            noise_level = 'noise' + str(level)\n",
    "\n",
    "            PSNR[idx,0] = data[noise_level + '_TwoPhoton_BPAE_R']['psnr']\n",
    "            PSNR[idx,1] = data[noise_level + '_TwoPhoton_BPAE_G']['psnr']\n",
    "            PSNR[idx,2] = data[noise_level + '_TwoPhoton_BPAE_B']['psnr']\n",
    "            PSNR[idx,3] = data[noise_level + '_TwoPhoton_MICE']['psnr']\n",
    "            PSNR[idx,4] = data[noise_level + '_test_mix']['psnr']\n",
    "                            \n",
    "    return PSNR"
   ]
  },
  {
   "cell_type": "code",
   "execution_count": 7,
   "metadata": {},
   "outputs": [
    {
     "name": "stdout",
     "output_type": "stream",
     "text": [
      "Noise2Noise\n",
      "\n",
      "Benchmark test_mix (without/with SFM):\n",
      "41.41 & 39.42 & 37.63 & 36.42 & 35.37\n",
      "41.48 & 39.46 & 37.78 & 36.43 & 35.50\n",
      "0.07 & 0.04 & 0.15 & 0.02 & 0.14\n",
      "\n",
      "Two-Photon (without/with SFM):\n",
      "38.37 & 35.82 & 34.56 & 33.58 & 32.70\n",
      "38.78 & 36.10 & 34.85 & 33.90 & 33.05\n",
      "0.40 & 0.28 & 0.29 & 0.32 & 0.35\n"
     ]
    }
   ],
   "source": [
    "print('Noise2Noise\\n')\n",
    "exp_date = 'Oct_17'\n",
    "DCT_DOR = 0\n",
    "exp_name = 'unet_noise_train[1, 2, 4, 8, 16]_test[1]_four_crop_epochs400_bs4_lr0.0001SFM'\n",
    "exp_name += str(DCT_DOR)\n",
    "PSNRs = get_sigma_PSNR(exp_date, exp_name)\n",
    "PSNRs_bench = PSNRs[:,4]\n",
    "PSNRs = PSNRs[:,1:4].mean(1)\n",
    "\n",
    "DCT_DOR = 0.5\n",
    "exp_name = 'unet_noise_train[1, 2, 4, 8, 16]_test[1]_four_crop_epochs400_bs4_lr0.0001SFM'\n",
    "exp_name += str(DCT_DOR)\n",
    "PSNRs_SFM = get_sigma_PSNR(exp_date, exp_name)\n",
    "PSNRs_SFM_bench = PSNRs_SFM[:,4]\n",
    "PSNRs_SFM = PSNRs_SFM[:,1:4].mean(1)\n",
    "\n",
    "\n",
    "print('Benchmark test_mix (without/with SFM):')\n",
    "print_with_ltx(PSNRs_bench)\n",
    "print_with_ltx(PSNRs_SFM_bench)\n",
    "print_with_ltx(PSNRs_SFM_bench - PSNRs_bench)\n",
    "\n",
    "print('\\nTwo-Photon (without/with SFM):')\n",
    "print_with_ltx(PSNRs)\n",
    "print_with_ltx(PSNRs_SFM)\n",
    "print_with_ltx(PSNRs_SFM - PSNRs)"
   ]
  },
  {
   "cell_type": "code",
   "execution_count": 6,
   "metadata": {},
   "outputs": [
    {
     "name": "stdout",
     "output_type": "stream",
     "text": [
      "Noise2Self\n",
      "\n",
      "Benchmark test_mix (without/with SFM):\n",
      "36.67 & 35.47 & 34.66 & 33.15 & 31.87\n",
      "36.60 & 35.62 & 34.59 & 33.44 & 32.40\n",
      "-0.06 & 0.15 & -0.07 & 0.29 & 0.54\n",
      "\n",
      "Two-Photon (without/with SFM):\n",
      "34.88 & 33.48 & 32.66 & 31.81 & 30.51\n",
      "34.39 & 33.14 & 32.48 & 31.84 & 30.92\n",
      "-0.49 & -0.33 & -0.18 & 0.03 & 0.41\n"
     ]
    }
   ],
   "source": [
    "print('Noise2Self\\n')\n",
    "exp_date = 'Oct_18'\n",
    "DCT_DOR = 0\n",
    "exp_name = 'unet_noise_train[1, 2, 4, 8, 16]_test[1]_four_crop_epochs100_bs4_lr1e-05SFM'\n",
    "exp_name += str(DCT_DOR)\n",
    "PSNRs = get_sigma_PSNR(exp_date, exp_name, 'n2s')\n",
    "PSNRs_bench = PSNRs[:,4]\n",
    "PSNRs = PSNRs[:,1:4].mean(1)\n",
    "\n",
    "\n",
    "DCT_DOR = 0.5\n",
    "exp_name = 'unet_noise_train[1, 2, 4, 8, 16]_test[1]_four_crop_epochs100_bs4_lr1e-05SFM'\n",
    "exp_name += str(DCT_DOR)\n",
    "PSNRs_SFM = get_sigma_PSNR(exp_date, exp_name, 'n2s')\n",
    "PSNRs_SFM_bench = PSNRs_SFM[:,4]\n",
    "PSNRs_SFM = PSNRs_SFM[:,1:4].mean(1)\n",
    "\n",
    "\n",
    "print('Benchmark test_mix (without/with SFM):')\n",
    "print_with_ltx(PSNRs_bench)\n",
    "print_with_ltx(PSNRs_SFM_bench)\n",
    "print_with_ltx(PSNRs_SFM_bench - PSNRs_bench)\n",
    "\n",
    "print('\\nTwo-Photon (without/with SFM):')\n",
    "print_with_ltx(PSNRs)\n",
    "print_with_ltx(PSNRs_SFM)\n",
    "print_with_ltx(PSNRs_SFM - PSNRs)"
   ]
  }
 ],
 "metadata": {
  "kernelspec": {
   "display_name": "Python 3",
   "language": "python",
   "name": "python3"
  },
  "language_info": {
   "codemirror_mode": {
    "name": "ipython",
    "version": 3
   },
   "file_extension": ".py",
   "mimetype": "text/x-python",
   "name": "python",
   "nbconvert_exporter": "python",
   "pygments_lexer": "ipython3",
   "version": "3.7.4"
  }
 },
 "nbformat": 4,
 "nbformat_minor": 4
}
