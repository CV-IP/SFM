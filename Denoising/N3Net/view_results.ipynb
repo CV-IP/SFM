{
 "cells": [
  {
   "cell_type": "code",
   "execution_count": 2,
   "metadata": {},
   "outputs": [],
   "source": [
    "import numpy as np\n",
    "import pickle"
   ]
  },
  {
   "cell_type": "code",
   "execution_count": 4,
   "metadata": {},
   "outputs": [
    {
     "name": "stdout",
     "output_type": "stream",
     "text": [
      "Comparing N3Net without vs with 50% SFM at 0.85:\n",
      "33.53 & 30.01 & 27.84 & 26.30 & 25.04 & 23.93 & 22.87 & 21.84 & 20.87 & 19.98\n",
      "33.41 & 29.86 & 27.84 & 26.38 & 25.19 & 24.15 & 23.20 & 22.32 & 21.51 & 20.78\n",
      "-0.12 & -0.15 & 0.00 & 0.08 & 0.15 & 0.22 & 0.33 & 0.48 & 0.64 & 0.80\n",
      "\n",
      "Comparing N3Net 50% SFM at 0.85 vs at 0.15:\n",
      "33.41 & 29.86 & 27.84 & 26.38 & 25.19 & 24.15 & 23.20 & 22.32 & 21.51 & 20.78\n",
      "29.24 & 27.62 & 26.42 & 25.44 & 24.56 & 23.72 & 22.90 & 22.10 & 21.35 & 20.65\n",
      "-4.17 & -2.24 & -1.42 & -0.94 & -0.63 & -0.43 & -0.30 & -0.22 & -0.16 & -0.13\n"
     ]
    }
   ],
   "source": [
    "def print_with_ltx(PSNR):\n",
    "    full_string = ''\n",
    "    for idx, val in enumerate(PSNR):\n",
    "        full_string += '%.2f' %round(val,2)\n",
    "        if idx < len(PSNR)-1:\n",
    "            full_string += ' & '\n",
    "    print(full_string)\n",
    "\n",
    "def get_sigma_PSNR(exp_ID, test_ID):\n",
    "    test_ID = '%02d' %test_ID\n",
    "    test_ID = 'test' + test_ID\n",
    "    results_dir = 'results_gaussian_denoising/' + exp_ID + '/' + test_ID + '/_data.pkl'\n",
    "    args_dir = 'results_gaussian_denoising/' + exp_ID + '/' + test_ID + '/args.pkl'\n",
    "\n",
    "    with open(args_dir, 'rb') as pickle_file:\n",
    "        args = pickle.load(pickle_file)\n",
    "    with open(results_dir, 'rb') as pickle_file:\n",
    "        data = pickle.load(pickle_file)\n",
    "\n",
    "#     print(args)\n",
    "#     print(data)\n",
    "    return args['parsed_args'].sigma, round(data['summaries']['val68/psnr'][81576].item(),2)\n",
    "\n",
    "\n",
    "\n",
    "PSNRs = np.zeros((3,10))\n",
    "\n",
    "exp_ID = '0002-'\n",
    "ID0 = 14\n",
    "for idx, test_ID in enumerate(range(ID0, ID0+10)):\n",
    "    PSNRs[0,idx] = get_sigma_PSNR(exp_ID, test_ID)[1]\n",
    "\n",
    "exp_ID = '0003-'\n",
    "ID0 = 12\n",
    "for idx, test_ID in enumerate(range(ID0, ID0+10)):\n",
    "    PSNRs[1,idx] = get_sigma_PSNR(exp_ID, test_ID)[1]\n",
    "\n",
    "exp_ID = '0006-'\n",
    "ID0 = 0\n",
    "for idx, test_ID in enumerate(range(ID0, ID0+10)):\n",
    "    PSNRs[2,idx] = get_sigma_PSNR(exp_ID, test_ID)[1]\n",
    "\n",
    "\n",
    "print('Comparing N3Net without vs with 50% SFM at 0.85:')\n",
    "print_with_ltx(PSNRs[0,:])\n",
    "print_with_ltx(PSNRs[1,:])\n",
    "print_with_ltx(PSNRs[1,:]-PSNRs[0,:])\n",
    "\n",
    "print('\\nComparing N3Net 50% SFM at 0.85 vs at 0.15:')\n",
    "print_with_ltx(PSNRs[1,:])\n",
    "print_with_ltx(PSNRs[2,:])\n",
    "print_with_ltx(PSNRs[2,:]-PSNRs[1,:])\n",
    "\n",
    "# to train the ablation-study LFM: modify SFM rad_perc (0.85/0.15) in experiment.py\n",
    "# 0002- test results start at ID0=14, eval_epoch=50, no SFM\n",
    "# 0003- test results start at ID0=12, eval_epoch=50, 50% SFM @0.85\n",
    "# 0006- test results start at ID0=0, eval_epoch=50, 50% SFM @0.15"
   ]
  }
 ],
 "metadata": {
  "kernelspec": {
   "display_name": "Python 3",
   "language": "python",
   "name": "python3"
  },
  "language_info": {
   "codemirror_mode": {
    "name": "ipython",
    "version": 3
   },
   "file_extension": ".py",
   "mimetype": "text/x-python",
   "name": "python",
   "nbconvert_exporter": "python",
   "pygments_lexer": "ipython3",
   "version": "3.7.4"
  }
 },
 "nbformat": 4,
 "nbformat_minor": 4
}
